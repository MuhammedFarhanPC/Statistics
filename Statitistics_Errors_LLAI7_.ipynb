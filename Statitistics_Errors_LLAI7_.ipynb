{
  "nbformat": 4,
  "nbformat_minor": 0,
  "metadata": {
    "colab": {
      "provenance": [],
      "toc_visible": true
    },
    "kernelspec": {
      "name": "python3",
      "display_name": "Python 3"
    },
    "language_info": {
      "name": "python"
    }
  },
  "cells": [
    {
      "cell_type": "code",
      "execution_count": null,
      "metadata": {
        "id": "_7-eheFLSfPJ"
      },
      "outputs": [],
      "source": [
        "#Importing necessary libraries\n",
        "import numpy as np\n",
        "import pandas as pd\n",
        "\n",
        "from sklearn.metrics import mean_absolute_error,mean_squared_error"
      ]
    },
    {
      "cell_type": "code",
      "source": [
        "#Example dataset : Actual vs Predicted values\n",
        "actual = np.array([3,-0.5,2,7])\n",
        "predicted = np.array([2.5,0.0,2,9])"
      ],
      "metadata": {
        "id": "dFuHLwYuTELo"
      },
      "execution_count": null,
      "outputs": []
    },
    {
      "cell_type": "code",
      "source": [
        "#creating a DataFrame\n",
        "df= pd.DataFrame({\n",
        "    \"Actual\": actual,\n",
        "    \"Predicted\": predicted\n",
        "})\n",
        "print(df)"
      ],
      "metadata": {
        "colab": {
          "base_uri": "https://localhost:8080/"
        },
        "id": "E3OOq1ycUMj4",
        "outputId": "ad1ad1bc-7771-43c4-e007-54593af89e95"
      },
      "execution_count": null,
      "outputs": [
        {
          "output_type": "stream",
          "name": "stdout",
          "text": [
            "   Actual  Predicted\n",
            "0     3.0        2.5\n",
            "1    -0.5        0.0\n",
            "2     2.0        2.0\n",
            "3     7.0        9.0\n"
          ]
        }
      ]
    },
    {
      "cell_type": "markdown",
      "source": [
        "# The mean absolute error -MAE"
      ],
      "metadata": {
        "id": "DIcn4nJ3V6kS"
      }
    },
    {
      "cell_type": "code",
      "source": [
        "#calculating Mean Absolute Error (MAE) using the function\n",
        "mae = mean_absolute_error(actual,predicted)\n",
        "print(\"Mean Absolute Error (MAE) :\",mae)"
      ],
      "metadata": {
        "colab": {
          "base_uri": "https://localhost:8080/"
        },
        "id": "8hDpndtWWJpp",
        "outputId": "9b1535a2-b6b7-42ef-c85a-6ad61eee4cde"
      },
      "execution_count": null,
      "outputs": [
        {
          "output_type": "stream",
          "name": "stdout",
          "text": [
            "Mean Absolute Error (MAE) : 0.75\n"
          ]
        }
      ]
    },
    {
      "cell_type": "markdown",
      "source": [
        "# The mean squared error -MSE"
      ],
      "metadata": {
        "id": "65U0S5xbXpv0"
      }
    },
    {
      "cell_type": "code",
      "source": [
        "#calculating Mean Absolute Error (MAE) using the function\n",
        "mse = mean_squared_error(actual,predicted)\n",
        "print(\"Mean Squared Error (MAE) :\",mse)"
      ],
      "metadata": {
        "colab": {
          "base_uri": "https://localhost:8080/"
        },
        "id": "qkph9_kdXwj5",
        "outputId": "7b1754fc-99b9-44b6-c515-9f6f5bd72e7d"
      },
      "execution_count": null,
      "outputs": [
        {
          "output_type": "stream",
          "name": "stdout",
          "text": [
            "Mean Squared Error (MAE) : 1.125\n"
          ]
        }
      ]
    },
    {
      "cell_type": "code",
      "source": [],
      "metadata": {
        "id": "Cbxc_ptEY_f7"
      },
      "execution_count": null,
      "outputs": []
    }
  ]
}